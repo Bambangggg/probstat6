{
 "cells": [
  {
   "cell_type": "code",
   "execution_count": 4,
   "id": "cb312dfe-bfb6-4fdd-8a6f-d8feaa929cb7",
   "metadata": {},
   "outputs": [
    {
     "name": "stdout",
     "output_type": "stream",
     "text": [
      "Interval kepercayaan 50% untuk volume rata-rata populasi kemasan oli:\n",
      "(9.808551159894352, 9.97894884010565)\n"
     ]
    }
   ],
   "source": [
    "import pandas as pd \n",
    "import numpy as np \n",
    "from scipy.stats import t\n",
    "\n",
    "import numpy as np \n",
    "from scipy import stats\n",
    "\n",
    "#Rengambil data volume dari DataFrame \n",
    "df = pd.read_clipboard()\n",
    "volume = df['Volume']\n",
    "\n",
    "#Menghitung rata-rata dan standar deviasi sampel\n",
    "mean_volume = np.mean (volume)\n",
    "std_dev_volume = np.std(volume, ddof=1) # ddof-1 untuk sample standard deviation\n",
    "\n",
    "#Menghitung jumlah data \n",
    "n = len(volume)\n",
    "\n",
    "#Menghitung interval kepercayaan 50% \n",
    "confidence_level = 0.50\n",
    "z_score = stats.norm.ppf((1 + confidence_level) / 2) \n",
    "margin_of_error = z_score * (std_dev_volume / np.sqrt(n))\n",
    "lower_bound = mean_volume - margin_of_error\n",
    "upper_bound = mean_volume + margin_of_error\n",
    "\n",
    "print(\"Interval kepercayaan 50% untuk volume rata-rata populasi kemasan oli:\") \n",
    "print(f\"({lower_bound}, {upper_bound})\")"
   ]
  },
  {
   "cell_type": "code",
   "execution_count": null,
   "id": "2c0db6f3-7b3d-430f-8f8f-cee3f75b8630",
   "metadata": {},
   "outputs": [],
   "source": []
  }
 ],
 "metadata": {
  "kernelspec": {
   "display_name": "Python 3 (ipykernel)",
   "language": "python",
   "name": "python3"
  },
  "language_info": {
   "codemirror_mode": {
    "name": "ipython",
    "version": 3
   },
   "file_extension": ".py",
   "mimetype": "text/x-python",
   "name": "python",
   "nbconvert_exporter": "python",
   "pygments_lexer": "ipython3",
   "version": "3.12.1"
  }
 },
 "nbformat": 4,
 "nbformat_minor": 5
}
